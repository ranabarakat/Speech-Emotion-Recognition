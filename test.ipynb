{
 "cells": [
  {
   "cell_type": "code",
   "execution_count": 33,
   "metadata": {},
   "outputs": [],
   "source": [
    "import numpy as  np\n",
    "import pandas as pd\n",
    "import matplotlib.pyplot as plt\n",
    "from scipy.io import wavfile\n",
    "import os\n",
    "import seaborn as sns\n",
    "import random"
   ]
  },
  {
   "cell_type": "code",
   "execution_count": 22,
   "metadata": {},
   "outputs": [],
   "source": [
    "audios = []\n",
    "labels = []\n",
    "audio_files = os.listdir('Crema')\n",
    "for file in audio_files:\n",
    "    labels.append(file.split('_')[2])\n",
    "    _,data = wavfile.read(os.path.join('Crema',file))\n",
    "    audios.append(data)\n",
    "    \n",
    "    "
   ]
  },
  {
   "cell_type": "code",
   "execution_count": 25,
   "metadata": {},
   "outputs": [
    {
     "name": "stdout",
     "output_type": "stream",
     "text": [
      "7442\n",
      "7442\n"
     ]
    }
   ],
   "source": [
    "print(len(labels))\n",
    "print(len(audios))"
   ]
  },
  {
   "cell_type": "code",
   "execution_count": 9,
   "metadata": {},
   "outputs": [
    {
     "data": {
      "text/plain": [
       "{'ANG', 'DIS', 'FEA', 'HAP', 'NEU', 'SAD'}"
      ]
     },
     "execution_count": 9,
     "metadata": {},
     "output_type": "execute_result"
    }
   ],
   "source": [
    "set(labels)"
   ]
  },
  {
   "cell_type": "code",
   "execution_count": 30,
   "metadata": {},
   "outputs": [
    {
     "data": {
      "text/html": [
       "<div>\n",
       "<style scoped>\n",
       "    .dataframe tbody tr th:only-of-type {\n",
       "        vertical-align: middle;\n",
       "    }\n",
       "\n",
       "    .dataframe tbody tr th {\n",
       "        vertical-align: top;\n",
       "    }\n",
       "\n",
       "    .dataframe thead th {\n",
       "        text-align: right;\n",
       "    }\n",
       "</style>\n",
       "<table border=\"1\" class=\"dataframe\">\n",
       "  <thead>\n",
       "    <tr style=\"text-align: right;\">\n",
       "      <th></th>\n",
       "      <th>data</th>\n",
       "      <th>label</th>\n",
       "    </tr>\n",
       "  </thead>\n",
       "  <tbody>\n",
       "    <tr>\n",
       "      <th>0</th>\n",
       "      <td>[0, 0, 0, 0, 0, 0, 0, 0, 0, 0, 0, 0, 0, 0, 0, ...</td>\n",
       "      <td>ANG</td>\n",
       "    </tr>\n",
       "    <tr>\n",
       "      <th>1</th>\n",
       "      <td>[30, 43, 52, 59, 77, 87, 108, 115, 152, 149, 1...</td>\n",
       "      <td>DIS</td>\n",
       "    </tr>\n",
       "    <tr>\n",
       "      <th>2</th>\n",
       "      <td>[263, 277, 274, 244, 240, 220, 195, 191, 161, ...</td>\n",
       "      <td>FEA</td>\n",
       "    </tr>\n",
       "    <tr>\n",
       "      <th>3</th>\n",
       "      <td>[-142, -107, -99, -88, -94, -53, -63, -40, -22...</td>\n",
       "      <td>HAP</td>\n",
       "    </tr>\n",
       "    <tr>\n",
       "      <th>4</th>\n",
       "      <td>[79, 45, 43, 19, -22, -65, -92, -101, -144, -2...</td>\n",
       "      <td>NEU</td>\n",
       "    </tr>\n",
       "    <tr>\n",
       "      <th>...</th>\n",
       "      <td>...</td>\n",
       "      <td>...</td>\n",
       "    </tr>\n",
       "    <tr>\n",
       "      <th>7437</th>\n",
       "      <td>[30, 46, 45, 48, 34, 38, 34, 32, 9, 26, 27, 27...</td>\n",
       "      <td>DIS</td>\n",
       "    </tr>\n",
       "    <tr>\n",
       "      <th>7438</th>\n",
       "      <td>[-228, -222, -236, -251, -236, -249, -254, -25...</td>\n",
       "      <td>FEA</td>\n",
       "    </tr>\n",
       "    <tr>\n",
       "      <th>7439</th>\n",
       "      <td>[-74, -61, -76, -71, -67, -56, -74, -66, -73, ...</td>\n",
       "      <td>HAP</td>\n",
       "    </tr>\n",
       "    <tr>\n",
       "      <th>7440</th>\n",
       "      <td>[-53, -35, -25, -19, -3, 8, 19, 20, 24, 61, 64...</td>\n",
       "      <td>NEU</td>\n",
       "    </tr>\n",
       "    <tr>\n",
       "      <th>7441</th>\n",
       "      <td>[28, 17, 36, 32, 57, 58, 62, 57, 64, 65, 49, 5...</td>\n",
       "      <td>SAD</td>\n",
       "    </tr>\n",
       "  </tbody>\n",
       "</table>\n",
       "<p>7442 rows × 2 columns</p>\n",
       "</div>"
      ],
      "text/plain": [
       "                                                   data label\n",
       "0     [0, 0, 0, 0, 0, 0, 0, 0, 0, 0, 0, 0, 0, 0, 0, ...   ANG\n",
       "1     [30, 43, 52, 59, 77, 87, 108, 115, 152, 149, 1...   DIS\n",
       "2     [263, 277, 274, 244, 240, 220, 195, 191, 161, ...   FEA\n",
       "3     [-142, -107, -99, -88, -94, -53, -63, -40, -22...   HAP\n",
       "4     [79, 45, 43, 19, -22, -65, -92, -101, -144, -2...   NEU\n",
       "...                                                 ...   ...\n",
       "7437  [30, 46, 45, 48, 34, 38, 34, 32, 9, 26, 27, 27...   DIS\n",
       "7438  [-228, -222, -236, -251, -236, -249, -254, -25...   FEA\n",
       "7439  [-74, -61, -76, -71, -67, -56, -74, -66, -73, ...   HAP\n",
       "7440  [-53, -35, -25, -19, -3, 8, 19, 20, 24, 61, 64...   NEU\n",
       "7441  [28, 17, 36, 32, 57, 58, 62, 57, 64, 65, 49, 5...   SAD\n",
       "\n",
       "[7442 rows x 2 columns]"
      ]
     },
     "execution_count": 30,
     "metadata": {},
     "output_type": "execute_result"
    },
    {
     "data": {
      "image/png": "[encoded data removed]",
      "text/plain": [
       "<Figure size 720x720 with 1 Axes>"
      ]
     },
     "metadata": {
      "needs_background": "light"
     },
     "output_type": "display_data"
    }
   ],
   "source": [
    "df = pd.concat([pd.Series(audios,name='data'),pd.Series(labels,name='label')],axis=1)\n",
    "df['label'].value_counts().plot(kind='bar',figsize=(10,10))\n",
    "df"
   ]
  },
  {
   "cell_type": "code",
   "execution_count": null,
   "metadata": {},
   "outputs": [],
   "source": []
  }
 ],
 "metadata": {
  "kernelspec": {
   "display_name": "base",
   "language": "python",
   "name": "python3"
  },
  "language_info": {
   "codemirror_mode": {
    "name": "ipython",
    "version": 3
   },
   "file_extension": ".py",
   "mimetype": "text/x-python",
   "name": "python",
   "nbconvert_exporter": "python",
   "pygments_lexer": "ipython3",
   "version": "3.9.12"
  },
  "orig_nbformat": 4
 },
 "nbformat": 4,
 "nbformat_minor": 2
}
